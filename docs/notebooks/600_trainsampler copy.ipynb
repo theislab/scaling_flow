{
 "cells": [
  {
   "cell_type": "code",
   "execution_count": 21,
   "id": "5765bb6c",
   "metadata": {},
   "outputs": [
    {
     "name": "stdout",
     "output_type": "stream",
     "text": [
      "The autoreload extension is already loaded. To reload it, use:\n",
      "  %reload_ext autoreload\n"
     ]
    }
   ],
   "source": [
    "%load_ext autoreload\n",
    "%autoreload 2\n",
    "\n",
    "from scaleflow.data import MappedCellData"
   ]
  },
  {
   "cell_type": "code",
   "execution_count": 2,
   "id": "5e77bb94",
   "metadata": {},
   "outputs": [],
   "source": [
    "from pathlib import Path\n",
    "\n",
    "data_path = Path(\"/lustre/groups/ml01/workspace/100mil/tahoe.zarr\")"
   ]
  },
  {
   "cell_type": "code",
   "execution_count": 25,
   "id": "cb38a3f8",
   "metadata": {},
   "outputs": [],
   "source": [
    "mcd = MappedCellData.read_zarr(data_path)"
   ]
  },
  {
   "cell_type": "code",
   "execution_count": 27,
   "id": "675044bc",
   "metadata": {},
   "outputs": [
    {
     "data": {
      "text/plain": [
       "{0: <Array file:///lustre/groups/ml01/workspace/100mil/tahoe.zarr/src_cell_data/0 shape=(60135, 300) dtype=float32>,\n",
       " 1: <Array file:///lustre/groups/ml01/workspace/100mil/tahoe.zarr/src_cell_data/1 shape=(13778, 300) dtype=float32>,\n",
       " 10: <Array file:///lustre/groups/ml01/workspace/100mil/tahoe.zarr/src_cell_data/10 shape=(50552, 300) dtype=float32>,\n",
       " 11: <Array file:///lustre/groups/ml01/workspace/100mil/tahoe.zarr/src_cell_data/11 shape=(39854, 300) dtype=float32>,\n",
       " 12: <Array file:///lustre/groups/ml01/workspace/100mil/tahoe.zarr/src_cell_data/12 shape=(55202, 300) dtype=float32>,\n",
       " 13: <Array file:///lustre/groups/ml01/workspace/100mil/tahoe.zarr/src_cell_data/13 shape=(56439, 300) dtype=float32>,\n",
       " 14: <Array file:///lustre/groups/ml01/workspace/100mil/tahoe.zarr/src_cell_data/14 shape=(36803, 300) dtype=float32>,\n",
       " 15: <Array file:///lustre/groups/ml01/workspace/100mil/tahoe.zarr/src_cell_data/15 shape=(51949, 300) dtype=float32>,\n",
       " 16: <Array file:///lustre/groups/ml01/workspace/100mil/tahoe.zarr/src_cell_data/16 shape=(41614, 300) dtype=float32>,\n",
       " 17: <Array file:///lustre/groups/ml01/workspace/100mil/tahoe.zarr/src_cell_data/17 shape=(67833, 300) dtype=float32>,\n",
       " 18: <Array file:///lustre/groups/ml01/workspace/100mil/tahoe.zarr/src_cell_data/18 shape=(56383, 300) dtype=float32>,\n",
       " 19: <Array file:///lustre/groups/ml01/workspace/100mil/tahoe.zarr/src_cell_data/19 shape=(126345, 300) dtype=float32>,\n",
       " 2: <Array file:///lustre/groups/ml01/workspace/100mil/tahoe.zarr/src_cell_data/2 shape=(35843, 300) dtype=float32>,\n",
       " 20: <Array file:///lustre/groups/ml01/workspace/100mil/tahoe.zarr/src_cell_data/20 shape=(95259, 300) dtype=float32>,\n",
       " 21: <Array file:///lustre/groups/ml01/workspace/100mil/tahoe.zarr/src_cell_data/21 shape=(54386, 300) dtype=float32>,\n",
       " 22: <Array file:///lustre/groups/ml01/workspace/100mil/tahoe.zarr/src_cell_data/22 shape=(139224, 300) dtype=float32>,\n",
       " 23: <Array file:///lustre/groups/ml01/workspace/100mil/tahoe.zarr/src_cell_data/23 shape=(35415, 300) dtype=float32>,\n",
       " 24: <Array file:///lustre/groups/ml01/workspace/100mil/tahoe.zarr/src_cell_data/24 shape=(64417, 300) dtype=float32>,\n",
       " 25: <Array file:///lustre/groups/ml01/workspace/100mil/tahoe.zarr/src_cell_data/25 shape=(34685, 300) dtype=float32>,\n",
       " 26: <Array file:///lustre/groups/ml01/workspace/100mil/tahoe.zarr/src_cell_data/26 shape=(49119, 300) dtype=float32>,\n",
       " 27: <Array file:///lustre/groups/ml01/workspace/100mil/tahoe.zarr/src_cell_data/27 shape=(29046, 300) dtype=float32>,\n",
       " 28: <Array file:///lustre/groups/ml01/workspace/100mil/tahoe.zarr/src_cell_data/28 shape=(51178, 300) dtype=float32>,\n",
       " 29: <Array file:///lustre/groups/ml01/workspace/100mil/tahoe.zarr/src_cell_data/29 shape=(11219, 300) dtype=float32>,\n",
       " 3: <Array file:///lustre/groups/ml01/workspace/100mil/tahoe.zarr/src_cell_data/3 shape=(29414, 300) dtype=float32>,\n",
       " 30: <Array file:///lustre/groups/ml01/workspace/100mil/tahoe.zarr/src_cell_data/30 shape=(24306, 300) dtype=float32>,\n",
       " 31: <Array file:///lustre/groups/ml01/workspace/100mil/tahoe.zarr/src_cell_data/31 shape=(75431, 300) dtype=float32>,\n",
       " 32: <Array file:///lustre/groups/ml01/workspace/100mil/tahoe.zarr/src_cell_data/32 shape=(52427, 300) dtype=float32>,\n",
       " 33: <Array file:///lustre/groups/ml01/workspace/100mil/tahoe.zarr/src_cell_data/33 shape=(46867, 300) dtype=float32>,\n",
       " 34: <Array file:///lustre/groups/ml01/workspace/100mil/tahoe.zarr/src_cell_data/34 shape=(42864, 300) dtype=float32>,\n",
       " 35: <Array file:///lustre/groups/ml01/workspace/100mil/tahoe.zarr/src_cell_data/35 shape=(46472, 300) dtype=float32>,\n",
       " 36: <Array file:///lustre/groups/ml01/workspace/100mil/tahoe.zarr/src_cell_data/36 shape=(610, 300) dtype=float32>,\n",
       " 37: <Array file:///lustre/groups/ml01/workspace/100mil/tahoe.zarr/src_cell_data/37 shape=(43557, 300) dtype=float32>,\n",
       " 38: <Array file:///lustre/groups/ml01/workspace/100mil/tahoe.zarr/src_cell_data/38 shape=(48845, 300) dtype=float32>,\n",
       " 39: <Array file:///lustre/groups/ml01/workspace/100mil/tahoe.zarr/src_cell_data/39 shape=(345, 300) dtype=float32>,\n",
       " 4: <Array file:///lustre/groups/ml01/workspace/100mil/tahoe.zarr/src_cell_data/4 shape=(56447, 300) dtype=float32>,\n",
       " 40: <Array file:///lustre/groups/ml01/workspace/100mil/tahoe.zarr/src_cell_data/40 shape=(3206, 300) dtype=float32>,\n",
       " 41: <Array file:///lustre/groups/ml01/workspace/100mil/tahoe.zarr/src_cell_data/41 shape=(37487, 300) dtype=float32>,\n",
       " 42: <Array file:///lustre/groups/ml01/workspace/100mil/tahoe.zarr/src_cell_data/42 shape=(36612, 300) dtype=float32>,\n",
       " 43: <Array file:///lustre/groups/ml01/workspace/100mil/tahoe.zarr/src_cell_data/43 shape=(50344, 300) dtype=float32>,\n",
       " 44: <Array file:///lustre/groups/ml01/workspace/100mil/tahoe.zarr/src_cell_data/44 shape=(3254, 300) dtype=float32>,\n",
       " 45: <Array file:///lustre/groups/ml01/workspace/100mil/tahoe.zarr/src_cell_data/45 shape=(4940, 300) dtype=float32>,\n",
       " 46: <Array file:///lustre/groups/ml01/workspace/100mil/tahoe.zarr/src_cell_data/46 shape=(43500, 300) dtype=float32>,\n",
       " 47: <Array file:///lustre/groups/ml01/workspace/100mil/tahoe.zarr/src_cell_data/47 shape=(22444, 300) dtype=float32>,\n",
       " 48: <Array file:///lustre/groups/ml01/workspace/100mil/tahoe.zarr/src_cell_data/48 shape=(38161, 300) dtype=float32>,\n",
       " 49: <Array file:///lustre/groups/ml01/workspace/100mil/tahoe.zarr/src_cell_data/49 shape=(38420, 300) dtype=float32>,\n",
       " 5: <Array file:///lustre/groups/ml01/workspace/100mil/tahoe.zarr/src_cell_data/5 shape=(51407, 300) dtype=float32>,\n",
       " 6: <Array file:///lustre/groups/ml01/workspace/100mil/tahoe.zarr/src_cell_data/6 shape=(31009, 300) dtype=float32>,\n",
       " 7: <Array file:///lustre/groups/ml01/workspace/100mil/tahoe.zarr/src_cell_data/7 shape=(32353, 300) dtype=float32>,\n",
       " 8: <Array file:///lustre/groups/ml01/workspace/100mil/tahoe.zarr/src_cell_data/8 shape=(34053, 300) dtype=float32>,\n",
       " 9: <Array file:///lustre/groups/ml01/workspace/100mil/tahoe.zarr/src_cell_data/9 shape=(54333, 300) dtype=float32>}"
      ]
     },
     "execution_count": 27,
     "metadata": {},
     "output_type": "execute_result"
    }
   ],
   "source": [
    "mcd.src_cell_data"
   ]
  },
  {
   "cell_type": "code",
   "execution_count": 28,
   "id": "33793ea8",
   "metadata": {},
   "outputs": [],
   "source": [
    "from scaleflow.data import ReservoirSampler"
   ]
  },
  {
   "cell_type": "code",
   "execution_count": 93,
   "id": "05bd4946",
   "metadata": {},
   "outputs": [],
   "source": [
    "rs = ReservoirSampler(mcd, batch_size=1024, pool_size=40, replacement_prob=0.01)\n"
   ]
  },
  {
   "cell_type": "code",
   "execution_count": null,
   "id": "b40a9520",
   "metadata": {},
   "outputs": [],
   "source": [
    "import numpy as np\n",
    "rng = np.random.default_rng(0)\n",
    "rs.init_pool(rng)\n"
   ]
  },
  {
   "cell_type": "code",
   "execution_count": null,
   "id": "799aad1f",
   "metadata": {},
   "outputs": [
    {
     "name": "stdout",
     "output_type": "stream",
     "text": [
      "scheduled replacement of 40 with 10 (slot 2)\n",
      "scheduled replacement of 49 with 16 (slot 0)\n",
      "average time per iteration:  0.0003986350893974304\n",
      "iterations per second:  2508.5599000117672\n"
     ]
    }
   ],
   "source": [
    "import time\n",
    "iter_times = []\n",
    "start_time = time.time()\n",
    "for iter in range(4000):\n",
    "    batch = rs.sample(rng)\n",
    "    end_time = time.time()\n",
    "    iter_times.append(end_time - start_time)\n",
    "    start_time = end_time\n",
    "\n",
    "print(\"average time per iteration: \", np.mean(iter_times))\n",
    "print(\"iterations per second: \", 1 / np.mean(iter_times))\n"
   ]
  }
 ],
 "metadata": {
  "kernelspec": {
   "display_name": "Python 3",
   "language": "python",
   "name": "python3"
  },
  "language_info": {
   "codemirror_mode": {
    "name": "ipython",
    "version": 3
   },
   "file_extension": ".py",
   "mimetype": "text/x-python",
   "name": "python",
   "nbconvert_exporter": "python",
   "pygments_lexer": "ipython3",
   "version": "3.12.11"
  }
 },
 "nbformat": 4,
 "nbformat_minor": 5
}
